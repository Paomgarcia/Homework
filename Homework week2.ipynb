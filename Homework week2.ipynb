{
 "cells": [
  {
   "cell_type": "code",
   "execution_count": 245,
   "metadata": {},
   "outputs": [
    {
     "name": "stdout",
     "output_type": "stream",
     "text": [
      "245  154  182  469  56  483  "
     ]
    }
   ],
   "source": [
    "#1\n",
    "import random\n",
    "integers_list = [random.randint(0,1000) for i in range(50)] # a list comprehension\n",
    "# your code here\n",
    "for Number in integers_list:\n",
    "    if(Number % 7 == 0):\n",
    "         print(Number, end = '  ')\n",
    "            \n",
    "# we can use the \"%\" operator to find multiples of 7 . "
   ]
  },
  {
   "cell_type": "code",
   "execution_count": 246,
   "metadata": {},
   "outputs": [
    {
     "name": "stdout",
     "output_type": "stream",
     "text": [
      "Red\n",
      "Blue\n",
      "Purple\n",
      "Yellow\n",
      "Green\n",
      "['Red', 'Blue', 'Purple', 'Yellow', 'Green']\n"
     ]
    }
   ],
   "source": [
    "#2\n",
    "colors= ['red', 'blue', 'purple', 'yellow', 'green']\n",
    "\n",
    "for i in range(len(colors)):\n",
    "    colors[i] = colors[i].capitalize ()\n",
    "    print (colors[i])\n",
    "\n",
    "print(colors)"
   ]
  },
  {
   "cell_type": "code",
   "execution_count": 95,
   "metadata": {},
   "outputs": [
    {
     "name": "stdout",
     "output_type": "stream",
     "text": [
      "My computer has gone crazy and added extra symbols.\n"
     ]
    }
   ],
   "source": [
    "#3\n",
    "asterisk = 'My *compu*ter has go*ne craz***y an*d add*ed extra *symbols.*'\n",
    "# your code here\n",
    "Roberto = list(asterisk)\n",
    "for i in Roberto:\n",
    "    if i == '*':\n",
    "        Roberto.remove(i) \n",
    "Roberto.pop(-1)\n",
    "text = ''.join(Roberto)\n",
    "print (text)  "
   ]
  },
  {
   "cell_type": "code",
   "execution_count": 34,
   "metadata": {},
   "outputs": [
    {
     "name": "stdout",
     "output_type": "stream",
     "text": [
      "1\n",
      "2\n",
      "3\n",
      "4\n",
      "5\n",
      "6\n",
      "7\n"
     ]
    }
   ],
   "source": [
    "#4\n",
    "counter = 0\n",
    "\n",
    "while (counter < 7):\n",
    "   counter = counter + 1\n",
    "   print (counter)\n",
    "\n"
   ]
  },
  {
   "cell_type": "code",
   "execution_count": 169,
   "metadata": {},
   "outputs": [
    {
     "name": "stdout",
     "output_type": "stream",
     "text": [
      "len double_trouble  7\n",
      "len double_trouble  7\n",
      "len double_trouble  7\n",
      "len double_trouble[  2 ]  4\n",
      "len double_trouble[  2 ]  4\n",
      "len double_trouble[  2 ]  3\n",
      "len double_trouble  7\n",
      "len double_trouble[  3 ]  6\n",
      "len double_trouble[  3 ]  6\n",
      "len double_trouble[  3 ]  6\n",
      "len double_trouble[  3 ]  6\n",
      "len double_trouble[  3 ]  6\n",
      "len double_trouble[  3 ]  6\n",
      "len double_trouble  7\n",
      "len double_trouble  7\n",
      "len double_trouble  7\n",
      "['cat', 'dog', ['mouse', 'bat'], ['elephant', 'dog', 'whale', 'lion', 32], 'bird', [], 'mosquitoe']\n"
     ]
    }
   ],
   "source": [
    "#5\n",
    "double_trouble = ['cat', 'dog', ['mouse','mosquito','bat','mosquito'],\n",
    "['elephant','dog','whale','lion',32,'mosquito'],'bird',[],'mosquitoe']\n",
    "for i in range(len(double_trouble)):\n",
    "    print(\"len double_trouble \", len(double_trouble))\n",
    "    if double_trouble[i] == 'mosquito':\n",
    "        del(double_trouble[i])  \n",
    "    elif (type(double_trouble[i]) == list):\n",
    "        for j in double_trouble[i]:\n",
    "            print(\"len double_trouble[ \",i, \"] \", len(double_trouble[i]))\n",
    "            if (j == 'mosquito'):\n",
    "                #print (double_trouble[i][j])\n",
    "                double_trouble[i].remove(j)\n",
    "                \n",
    "                \n",
    "               \n",
    "\n",
    "print (double_trouble)\n"
   ]
  },
  {
   "cell_type": "code",
   "execution_count": 108,
   "metadata": {},
   "outputs": [
    {
     "name": "stdout",
     "output_type": "stream",
     "text": [
      "Jill: 1-(555)-567-8910\n",
      "Jen: 1-(555)-567-8910\n",
      "Jan: 1-(555)-567-8910\n",
      "Jane: 1-(555)-567-8910\n",
      "Jerri: 1-(555)-567-8910\n"
     ]
    }
   ],
   "source": [
    "#6\n",
    "phone_numbers = {'Jill':'1-)555(-567-8910',\n",
    "                'Jen':'1-)555(-567-8910',\n",
    "                'Jan':'1-)555(-567-8910',\n",
    "                'Jane':'1-)555(-567-8910',\n",
    "                'Jerri':'1-)555(-567-8910'}\n",
    "\n",
    "for x, y in phone_numbers.items():  \n",
    "    print(x +\": \" + y.replace(')555(','(555)'))"
   ]
  },
  {
   "cell_type": "code",
   "execution_count": 112,
   "metadata": {},
   "outputs": [
    {
     "name": "stdout",
     "output_type": "stream",
     "text": [
      "4\n",
      "-2\n",
      "None\n"
     ]
    }
   ],
   "source": [
    "#7\n",
    "def number(x,y):\n",
    "    if x%2 == 0 and y%2 == 0:\n",
    "        return(x + y) \n",
    "    elif x%2 == 1 and y%2 == 1:\n",
    "        return(x - y)        \n",
    "    \n",
    "print(number(2,2))\n",
    "print(number(3,5))\n",
    "print(number(2,3))"
   ]
  },
  {
   "cell_type": "code",
   "execution_count": 114,
   "metadata": {},
   "outputs": [],
   "source": [
    "#8\n",
    "def word(x):\n",
    "    string = input ()\n",
    "    "
   ]
  },
  {
   "cell_type": "code",
   "execution_count": 120,
   "metadata": {},
   "outputs": [
    {
     "name": "stdout",
     "output_type": "stream",
     "text": [
      "82\n"
     ]
    }
   ],
   "source": [
    "#9\n",
    "def temperature (x):\n",
    "    return(x*2+30)\n",
    "\n",
    "print(temperature (26))\n"
   ]
  },
  {
   "cell_type": "code",
   "execution_count": 131,
   "metadata": {},
   "outputs": [
    {
     "name": "stdout",
     "output_type": "stream",
     "text": [
      "0\n",
      "1\n",
      "1\n",
      "2\n",
      "3\n",
      "5\n",
      "8\n",
      "13\n",
      "21\n",
      "34\n",
      "55\n",
      "89\n",
      "144\n",
      "233\n",
      "377\n",
      "610\n",
      "987\n",
      "1597\n",
      "2584\n",
      "4181\n",
      "6765\n",
      "10946\n",
      "17711\n",
      "28657\n",
      "46368\n"
     ]
    }
   ],
   "source": [
    "#10\n",
    "def number():\n",
    "    x=0\n",
    "    y=1\n",
    "    print(x)\n",
    "    print(y)\n",
    "    for i in range (23):\n",
    "        n=x+y\n",
    "        print(n)\n",
    "        x=y\n",
    "        y=n\n",
    "         \n",
    "number()"
   ]
  },
  {
   "cell_type": "code",
   "execution_count": 137,
   "metadata": {},
   "outputs": [
    {
     "name": "stdout",
     "output_type": "stream",
     "text": [
      "6\n"
     ]
    }
   ],
   "source": [
    "#11\n",
    "def first_function(x,y):\n",
    "    return(x+y)\n",
    "\n",
    "def second_function(a,b,some_function):\n",
    "    return some_function(a,b)\n",
    "\n",
    "print (second_function(2,4,first_function))\n",
    "\n"
   ]
  },
  {
   "cell_type": "code",
   "execution_count": 242,
   "metadata": {},
   "outputs": [
    {
     "name": "stdout",
     "output_type": "stream",
     "text": [
      "2  3  5  7  11  13  17  19  23  29  31  37  41  43  47  53  59  61  67  71  73  79  83  89  97  "
     ]
    }
   ],
   "source": [
    "#12\n",
    "#Create a function that prints prime number from 0 to 100\n",
    "def number():\n",
    "    for Number in range (1, 101):\n",
    "        count = 0\n",
    "        for i in range(2, (Number//2 + 1)):\n",
    "            if(Number % i == 0):\n",
    "                count = count + 1\n",
    "                break\n",
    "\n",
    "        if (count == 0 and Number != 1):\n",
    "            print(Number, end = '  ')\n",
    "            \n",
    "number()"
   ]
  },
  {
   "cell_type": "code",
   "execution_count": 233,
   "metadata": {},
   "outputs": [
    {
     "name": "stdout",
     "output_type": "stream",
     "text": [
      "2.449489742783178\n"
     ]
    }
   ],
   "source": [
    "# 13\n",
    "import statistics  \n",
    "sample = [1, 2, 3, 4, 5, 6, 7, 8] \n",
    "   \n",
    "print(statistics.stdev(sample)) \n",
    "\n",
    "    "
   ]
  },
  {
   "cell_type": "code",
   "execution_count": 163,
   "metadata": {},
   "outputs": [
    {
     "name": "stdout",
     "output_type": "stream",
     "text": [
      "36\n"
     ]
    }
   ],
   "source": [
    "# 14\n",
    "#Add an attribute called age to the __init__ method of the Person class.\n",
    "#Create an instance of Person() and print the age.\n",
    "\n",
    "class Person():\n",
    "    \n",
    "    def __init__(self, name, occupation, country, age):\n",
    "        self.name = name\n",
    "        self.occupation = occupation\n",
    "        self.country = country\n",
    "        # you attribute goes here\n",
    "        self.age = age\n",
    "        \n",
    "x= Person ('Roberto', 'attorney', 'USA', 36)\n",
    "print(x.age)"
   ]
  },
  {
   "cell_type": "code",
   "execution_count": 168,
   "metadata": {},
   "outputs": [
    {
     "name": "stdout",
     "output_type": "stream",
     "text": [
      "chocolate\n",
      "3.29\n",
      "<__main__.Candy object at 0x7ff0bcccd890>\n"
     ]
    }
   ],
   "source": [
    "# 15\n",
    "class Candy():\n",
    "    \n",
    "    def __init__(self, kind='chocolate', brand= 'Nestle', caramel = False):\n",
    "        self.type = kind\n",
    "        self.brand = brand\n",
    "        self.caramel = caramel\n",
    "\n",
    "#def discount(y)\n",
    "# y= 0.20\n",
    "x=Candy ()\n",
    "print(x.type)\n",
    "\n",
    "x.cost =3.29\n",
    "print (x.cost)\n",
    "print (x)"
   ]
  },
  {
   "cell_type": "code",
   "execution_count": 189,
   "metadata": {},
   "outputs": [
    {
     "name": "stdout",
     "output_type": "stream",
     "text": [
      "Hello Jennifer\n"
     ]
    }
   ],
   "source": [
    "#16\n",
    "#Add an instance method to our class Greet that prints a greeting including greeting and the name.\n",
    "#Example:\n",
    "#jen = Greet()\n",
    "#jen.greet_method() returns \"Hello Jennifer\"\n",
    "\n",
    "class Greet():\n",
    "    \n",
    "    def __init__(self, name='Jennifer', language='english', gretting=\"Hello\"):\n",
    "        \n",
    "        self.language = language\n",
    "        self.gretting = gretting\n",
    "        self.name = name\n",
    "        \n",
    "    # Your method here\n",
    "    def myfunc(self):\n",
    "        print(self.gretting + ' ' + self.name)\n",
    "\n",
    "x=Greet ()\n",
    "# print (x.gretting, x.name)\n",
    "x.myfunc ()"
   ]
  },
  {
   "cell_type": "code",
   "execution_count": 199,
   "metadata": {},
   "outputs": [
    {
     "name": "stdout",
     "output_type": "stream",
     "text": [
      "1\n",
      "2\n",
      "3\n"
     ]
    }
   ],
   "source": [
    "# 17 \n",
    "# Add a line to the follwing code that will increment employee_count by 1 for all instances of Employee.\n",
    "# The code should run each time an new instance of Employee is created.\n",
    "# Hint: You don't need methods. Just a single expression will work. And it does NOT inlcude the word self.\n",
    "\n",
    "class Employee():\n",
    "    \n",
    "    # class variables. Applies to all instances of this class during creation.\n",
    "    yearly_bonus = 1.01 # not used anywhere in this example\n",
    "    \n",
    "    employee_count = 0 # This variable will change for all instances of the class.\n",
    "    \n",
    "       \n",
    "    def __init__(self,name, age, base_pay): # creates an instance of our object with unique attributes\n",
    "        \n",
    "        self.name = name\n",
    "        self.age = age\n",
    "        self.base_pay = base_pay\n",
    "         \n",
    "        # your code here inside the __init__ method. \n",
    "        Employee.employee_count = Employee.employee_count+1\n",
    "        \n",
    "emp1 = Employee('Matt', 32,40000)\n",
    "print(emp1.employee_count) # should be 1 if the __init__ method is working properly. \n",
    "\n",
    "emp2 = emp1 = Employee('Joe', 22,50000) # should be 2 if the __init__ method is working properly. \n",
    "print(emp2.employee_count)\n",
    "\n",
    "emp3 = Employee('Danny', 22,4) # should be 3 if the __init__ method is working properly. \n",
    "print(emp3.employee_count)"
   ]
  },
  {
   "cell_type": "code",
   "execution_count": 202,
   "metadata": {},
   "outputs": [
    {
     "name": "stdout",
     "output_type": "stream",
     "text": [
      "Meryl Streep: This is my line...\n"
     ]
    },
    {
     "data": {
      "text/plain": [
       "'Number of awards :3'"
      ]
     },
     "execution_count": 202,
     "metadata": {},
     "output_type": "execute_result"
    }
   ],
   "source": [
    "# 18\n",
    "# Add a static method of your choice to the class below.\n",
    "# Instaiate an object and call your method.\n",
    "# What is a static method anyway?\n",
    "\n",
    "class actress():\n",
    "    def __init__(self, name = 'Meryl Streep'):\n",
    "        self.name = name\n",
    "        \n",
    "    def act(self, line):\n",
    "        print(f'{self.name}: {line}')\n",
    "        \n",
    "    # your static method goes here.\n",
    "    @staticmethod\n",
    "    def awards (x):\n",
    "        return x \n",
    "   \n",
    "meryl = actress()\n",
    "meryl.act('This is my line...')\n",
    "actress.awards ('Number of awards :' '3')\n"
   ]
  },
  {
   "cell_type": "code",
   "execution_count": 204,
   "metadata": {},
   "outputs": [
    {
     "name": "stdout",
     "output_type": "stream",
     "text": [
      "Audi A5 2021\n"
     ]
    },
    {
     "data": {
      "text/plain": [
       "['__class__',\n",
       " '__delattr__',\n",
       " '__dict__',\n",
       " '__dir__',\n",
       " '__doc__',\n",
       " '__eq__',\n",
       " '__format__',\n",
       " '__ge__',\n",
       " '__getattribute__',\n",
       " '__gt__',\n",
       " '__hash__',\n",
       " '__init__',\n",
       " '__init_subclass__',\n",
       " '__le__',\n",
       " '__lt__',\n",
       " '__module__',\n",
       " '__ne__',\n",
       " '__new__',\n",
       " '__reduce__',\n",
       " '__reduce_ex__',\n",
       " '__repr__',\n",
       " '__setattr__',\n",
       " '__sizeof__',\n",
       " '__str__',\n",
       " '__subclasshook__',\n",
       " '__weakref__',\n",
       " 'make',\n",
       " 'model',\n",
       " 'year']"
      ]
     },
     "execution_count": 204,
     "metadata": {},
     "output_type": "execute_result"
    }
   ],
   "source": [
    "# 19\n",
    "# Create a class called Car that accepts 3 attributes (make, model and year).\n",
    "#In the __init__ method give your instance those three attributes.\n",
    "#Instantiate (create) an object that is your dream car.\n",
    "#Print the make of your dream car using the object attributes.\n",
    "#Then call the dir() method on your new object. (See your attrs are now included!)\n",
    "\n",
    "class Car():\n",
    "    def __init__(self, make, model, year):\n",
    "        self.make= make\n",
    "        self.model= model\n",
    "        self.year= year\n",
    "        \n",
    "mycar = Car ('Audi', 'A5', 2021)\n",
    "print(mycar.make, mycar.model, mycar.year)\n",
    "dir(mycar)"
   ]
  },
  {
   "cell_type": "code",
   "execution_count": 226,
   "metadata": {},
   "outputs": [
    {
     "name": "stdout",
     "output_type": "stream",
     "text": [
      "10\n",
      "[2, 2, 2, 5, 6, 6, 3, 3, 2, 6]\n",
      "[1, 3, 6, 5, 3]\n",
      "[1, 4, 3, 5, 1]\n"
     ]
    }
   ],
   "source": [
    "# 20 \n",
    "#Create a class called Dice that accepts a single argument called number_of_dice.\n",
    "#Create an instance method called roll.\n",
    "#roll should randomly pick a number for each die when called and print the results as a list.\n",
    "#Create an instance of Dice. Then call roll() on your instance.\n",
    "#Hint: Inside your class create an empty list called dice.\n",
    "\n",
    "# Helpful starter code\n",
    "from random import randrange\n",
    "#print(randrange(1,7)) # randomly generates a number between 1 and 6\n",
    "\n",
    "class dice():\n",
    "    def __init__(self, number_dice):\n",
    "        self.number_dice = number_dice\n",
    "        self.dice_list= [] \n",
    "    def roll (self):\n",
    "        #print(randrange(1,7)) # randomly generates a number between 1 and 6    \n",
    "        for i in range (self.number_dice):\n",
    "            self.dice_list.append(randrange(1,7))\n",
    "        print(self.dice_list)\n",
    "        self.dice_list.clear()\n",
    "myDice = dice (10)\n",
    "print(myDice.number_dice)\n",
    "myDice.roll ()\n",
    "\n",
    "\n",
    "myDice2 = dice (5)\n",
    "myDice2.roll ()\n",
    "myDice2.roll ()"
   ]
  },
  {
   "cell_type": "code",
   "execution_count": null,
   "metadata": {},
   "outputs": [],
   "source": []
  },
  {
   "cell_type": "code",
   "execution_count": null,
   "metadata": {},
   "outputs": [],
   "source": []
  }
 ],
 "metadata": {
  "kernelspec": {
   "display_name": "Python 3",
   "language": "python",
   "name": "python3"
  },
  "language_info": {
   "codemirror_mode": {
    "name": "ipython",
    "version": 3
   },
   "file_extension": ".py",
   "mimetype": "text/x-python",
   "name": "python",
   "nbconvert_exporter": "python",
   "pygments_lexer": "ipython3",
   "version": "3.7.7"
  }
 },
 "nbformat": 4,
 "nbformat_minor": 4
}
